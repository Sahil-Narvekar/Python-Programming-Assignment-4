{
 "cells": [
  {
   "cell_type": "code",
   "execution_count": null,
   "metadata": {},
   "outputs": [],
   "source": [
    "1. Write a Python Program to Find the Factorial of a Number?"
   ]
  },
  {
   "cell_type": "code",
   "execution_count": 7,
   "metadata": {},
   "outputs": [
    {
     "name": "stdout",
     "output_type": "stream",
     "text": [
      "Enter the number whose factorial is to be found out 7\n",
      "7 factorial is 5040\n"
     ]
    }
   ],
   "source": [
    "x=int(input('Enter the number whose factorial is to be found out '))\n",
    "b=1\n",
    "for i in range(1,x+1):\n",
    "    b=b*i\n",
    "print(x,'factorial is',b)\n",
    "    "
   ]
  },
  {
   "cell_type": "code",
   "execution_count": null,
   "metadata": {},
   "outputs": [],
   "source": [
    "2. Write a Python Program to Display the multiplication Table?"
   ]
  },
  {
   "cell_type": "code",
   "execution_count": 10,
   "metadata": {},
   "outputs": [
    {
     "name": "stdout",
     "output_type": "stream",
     "text": [
      "Enter the number whose multiplication Table is to be found out 9\n",
      "9 * 1 = 9\n",
      "9 * 2 = 18\n",
      "9 * 3 = 27\n",
      "9 * 4 = 36\n",
      "9 * 5 = 45\n",
      "9 * 6 = 54\n",
      "9 * 7 = 63\n",
      "9 * 8 = 72\n",
      "9 * 9 = 81\n",
      "9 * 10 = 90\n"
     ]
    }
   ],
   "source": [
    "x=int(input('Enter the number whose multiplication Table is to be found out '))\n",
    "for i in range (1,11):\n",
    "    print(x,'*',i,'=',x*i)"
   ]
  },
  {
   "cell_type": "code",
   "execution_count": null,
   "metadata": {},
   "outputs": [],
   "source": [
    "3. Write a Python Program to Print the Fibonacci sequence?"
   ]
  },
  {
   "cell_type": "code",
   "execution_count": 40,
   "metadata": {},
   "outputs": [
    {
     "name": "stdout",
     "output_type": "stream",
     "text": [
      "Enter the number whose Fibonacci sequence  to be found out 9\n",
      "[]\n",
      "[0, 1, 1, 2, 3, 5, 8, 13, 21, 34]\n"
     ]
    }
   ],
   "source": [
    "x=int(input('Enter the number whose Fibonacci sequence  to be found out '))\n",
    "z=[]\n",
    "print(z)\n",
    "for i in range(0,x+1):\n",
    "    if i<2:\n",
    "        z.insert(0,0)\n",
    "        z.insert(1,1)\n",
    "    else:\n",
    "        z.insert(i,z[i-1]+z[i-2])\n",
    "z=z[:-2]\n",
    "print(z)\n",
    "    "
   ]
  },
  {
   "cell_type": "code",
   "execution_count": null,
   "metadata": {},
   "outputs": [],
   "source": [
    "4. Write a Python Program to Check Armstrong Number?"
   ]
  },
  {
   "cell_type": "code",
   "execution_count": 12,
   "metadata": {},
   "outputs": [
    {
     "name": "stdout",
     "output_type": "stream",
     "text": [
      "Enter the number whose Armstrong Number  to be found out 153\n",
      "sum is 153\n",
      "Number is armstrong number\n"
     ]
    }
   ],
   "source": [
    "\n",
    "x=int(input('Enter the positive integer whose Armstrong Number  to be found out '))\n",
    "k=[]\n",
    "sum=0\n",
    "for i in range(0,len(str(x))):\n",
    "    x=str(x)\n",
    "    z=int(x[i])**3\n",
    "    k.append(z)\n",
    "for i in k:   \n",
    "    sum=sum+i\n",
    "print('sum is',sum)\n",
    "if sum==int(x):\n",
    "    print('Number is armstrong number')\n",
    "else:\n",
    "    print('Not a armstrong number')"
   ]
  },
  {
   "cell_type": "code",
   "execution_count": null,
   "metadata": {},
   "outputs": [],
   "source": [
    "5. Write a Python Program to Find Armstrong Number in an Interval?"
   ]
  },
  {
   "cell_type": "code",
   "execution_count": 21,
   "metadata": {},
   "outputs": [
    {
     "name": "stdout",
     "output_type": "stream",
     "text": [
      "Enter the number whose Armstrong Number  to be found out 150 410\n",
      "150 410\n",
      "[153, 370, 371, 407] are the armstrong numbers in given range\n"
     ]
    }
   ],
   "source": [
    "y=list(input('Enter the positive whose Armstrong Number  to be found out ').split())\n",
    "y1,y2=int(y[0]),int(y[1])\n",
    "print(y1,y2)\n",
    "an=[]\n",
    "for x in range(y1,y2+1):\n",
    "    k=[]\n",
    "    sum=0\n",
    "    for i in range(0,len(str(x))):\n",
    "        x=str(x)\n",
    "        z=int(x[i])**3\n",
    "        k.append(z)\n",
    "    for i in k:   \n",
    "        sum=sum+i\n",
    "    if sum==int(x):\n",
    "        an.append(sum)\n",
    "        \n",
    "print(an,'are the armstrong numbers in given range') "
   ]
  },
  {
   "cell_type": "code",
   "execution_count": null,
   "metadata": {},
   "outputs": [],
   "source": [
    "6. Write a Python Program to Find the Sum of Natural Numbers?"
   ]
  },
  {
   "cell_type": "code",
   "execution_count": 24,
   "metadata": {},
   "outputs": [
    {
     "name": "stdout",
     "output_type": "stream",
     "text": [
      "Enter positive integer whose sum is  to be found out 23\n",
      "276\n"
     ]
    }
   ],
   "source": [
    "x=int(input('Enter positive integer whose sum is  to be found out '))\n",
    "sum=0\n",
    "if x<=0:\n",
    "    print('Invalid number')\n",
    "else:\n",
    "    for i in range(1,x+1):\n",
    "        sum=sum+i\n",
    "print(sum)"
   ]
  }
 ],
 "metadata": {
  "kernelspec": {
   "display_name": "Python 3",
   "language": "python",
   "name": "python3"
  },
  "language_info": {
   "codemirror_mode": {
    "name": "ipython",
    "version": 3
   },
   "file_extension": ".py",
   "mimetype": "text/x-python",
   "name": "python",
   "nbconvert_exporter": "python",
   "pygments_lexer": "ipython3",
   "version": "3.8.3"
  }
 },
 "nbformat": 4,
 "nbformat_minor": 4
}
